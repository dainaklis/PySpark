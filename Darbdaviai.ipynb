{
  "nbformat": 4,
  "nbformat_minor": 0,
  "metadata": {
    "colab": {
      "name": "Darbdaviai",
      "provenance": [],
      "collapsed_sections": [
        "w4U6OkDQYPQJ"
      ],
      "authorship_tag": "ABX9TyO5UBA33u+QamHFE3HU5f4n",
      "include_colab_link": true
    },
    "kernelspec": {
      "name": "python3",
      "display_name": "Python 3"
    },
    "language_info": {
      "name": "python"
    }
  },
  "cells": [
    {
      "cell_type": "markdown",
      "metadata": {
        "id": "view-in-github",
        "colab_type": "text"
      },
      "source": [
        "<a href=\"https://colab.research.google.com/github/dainaklis/PySpark/blob/main/Darbdaviai.ipynb\" target=\"_parent\"><img src=\"https://colab.research.google.com/assets/colab-badge.svg\" alt=\"Open In Colab\"/></a>"
      ]
    },
    {
      "cell_type": "markdown",
      "metadata": {
        "id": "w4U6OkDQYPQJ"
      },
      "source": [
        "# **IMPORT AND INSTAL**"
      ]
    },
    {
      "cell_type": "code",
      "metadata": {
        "colab": {
          "base_uri": "https://localhost:8080/"
        },
        "id": "O3c_DJk9YC6A",
        "outputId": "ad217c23-3d96-4326-b9ce-62bc2ab84c9c"
      },
      "source": [
        "!pip install pyspark\n",
        "!pip install --upgrade matplotlib"
      ],
      "execution_count": null,
      "outputs": [
        {
          "output_type": "stream",
          "name": "stdout",
          "text": [
            "Requirement already satisfied: pyspark in /usr/local/lib/python3.7/dist-packages (3.1.2)\n",
            "Requirement already satisfied: py4j==0.10.9 in /usr/local/lib/python3.7/dist-packages (from pyspark) (0.10.9)\n",
            "Requirement already satisfied: matplotlib in /usr/local/lib/python3.7/dist-packages (3.4.3)\n",
            "Requirement already satisfied: kiwisolver>=1.0.1 in /usr/local/lib/python3.7/dist-packages (from matplotlib) (1.3.2)\n",
            "Requirement already satisfied: numpy>=1.16 in /usr/local/lib/python3.7/dist-packages (from matplotlib) (1.19.5)\n",
            "Requirement already satisfied: pyparsing>=2.2.1 in /usr/local/lib/python3.7/dist-packages (from matplotlib) (2.4.7)\n",
            "Requirement already satisfied: python-dateutil>=2.7 in /usr/local/lib/python3.7/dist-packages (from matplotlib) (2.8.2)\n",
            "Requirement already satisfied: cycler>=0.10 in /usr/local/lib/python3.7/dist-packages (from matplotlib) (0.10.0)\n",
            "Requirement already satisfied: pillow>=6.2.0 in /usr/local/lib/python3.7/dist-packages (from matplotlib) (7.1.2)\n",
            "Requirement already satisfied: six in /usr/local/lib/python3.7/dist-packages (from cycler>=0.10->matplotlib) (1.15.0)\n"
          ]
        }
      ]
    },
    {
      "cell_type": "code",
      "metadata": {
        "id": "TMER6dF0ZKmw"
      },
      "source": [
        "from pyspark.sql import functions as F, Row, SparkSession\n",
        "from pyspark.sql.functions import expr, col\n",
        "from pyspark.sql.functions import *\n",
        "from pyspark.sql import  SQLContext\n",
        "from pyspark.sql import types \n",
        "from pyspark.sql.types import *\n",
        "import matplotlib.pyplot as plt\n",
        "import pandas as pd\n",
        "import seaborn as sns\n",
        "import numpy as np\n",
        "import pyspark.sql.functions as func"
      ],
      "execution_count": null,
      "outputs": []
    },
    {
      "cell_type": "markdown",
      "metadata": {
        "id": "zazr6BCZZYXi"
      },
      "source": [
        "# **ANALIZUOJAM**"
      ]
    },
    {
      "cell_type": "code",
      "metadata": {
        "colab": {
          "base_uri": "https://localhost:8080/"
        },
        "id": "zNB9MqtDZW_P",
        "outputId": "b1686cfe-96a6-48cb-c3c0-0b41a609735b"
      },
      "source": [
        "spark = SparkSession.builder.appName(\"MySecondApp\").getOrCreate()\n",
        "st = spark.read.csv(\"AtvejaiPagal.csv\", header=\"true\", inferSchema=True)\n",
        "\n",
        "need = st.select(\"apskritis\",\"darbuotojai\",\"atvejai_viso\",\"atvejai_14d\",\"norma_14d\",\"testai_14d\",\"veiklos_pobudis\")\n",
        "need.show(truncate=False, n=10)\n",
        "need.printSchema()"
      ],
      "execution_count": null,
      "outputs": [
        {
          "output_type": "stream",
          "name": "stdout",
          "text": [
            "+-------------------+-----------+------------+-----------+---------+----------+--------------------------------------------------+\n",
            "|apskritis          |darbuotojai|atvejai_viso|atvejai_14d|norma_14d|testai_14d|veiklos_pobudis                                   |\n",
            "+-------------------+-----------+------------+-----------+---------+----------+--------------------------------------------------+\n",
            "|Utenos apskr.      |238        |83          |27         |3        |154       |Vielos gaminių, grandinių ir spyruoklių gamyba    |\n",
            "|Vilniaus apskr.    |160        |54          |22         |3        |37        |Viešųjų ryšių ir komunikacijos veikla             |\n",
            "|Alytaus apskr.     |159        |72          |19         |4        |83        |Buitinių elektrinių aparatų ir prietaisų gamyba   |\n",
            "|Vilniaus apskr.    |1904       |840         |27         |24       |767       |Ligoninių veikla                                  |\n",
            "|Marijampolės apskr.|279        |47          |16         |4        |45        |Lietuvos Respublikos savivaldybių veikla          |\n",
            "|Kauno apskr.       |50         |18          |12         |1        |24        |Pagrindinis ugdymas                               |\n",
            "|Klaipėdos apskr.   |374        |105         |17         |10       |120       |Laivų ir plūdriųjų konstrukcijų statyba           |\n",
            "|Vilniaus apskr.    |3718       |720         |32         |44       |557       |Viešosios tvarkos ir apsaugos veikla              |\n",
            "|Kauno apskr.       |1116       |178         |17         |14       |147       |Keleivių vežimas autobusais mieste ar priemiestyje|\n",
            "|Klaipėdos apskr.   |56         |11          |9          |2        |20        |Popierinių raštinės reikmenų gamyba               |\n",
            "+-------------------+-----------+------------+-----------+---------+----------+--------------------------------------------------+\n",
            "only showing top 10 rows\n",
            "\n",
            "root\n",
            " |-- apskritis: string (nullable = true)\n",
            " |-- darbuotojai: integer (nullable = true)\n",
            " |-- atvejai_viso: integer (nullable = true)\n",
            " |-- atvejai_14d: integer (nullable = true)\n",
            " |-- norma_14d: integer (nullable = true)\n",
            " |-- testai_14d: integer (nullable = true)\n",
            " |-- veiklos_pobudis: string (nullable = true)\n",
            "\n"
          ]
        }
      ]
    },
    {
      "cell_type": "code",
      "metadata": {
        "colab": {
          "base_uri": "https://localhost:8080/"
        },
        "id": "cDcEGAQTZ8Hn",
        "outputId": "9ee30a15-dc8d-440c-d25b-bef6eb738f75"
      },
      "source": [
        "need.describe().show(truncate=False)"
      ],
      "execution_count": null,
      "outputs": [
        {
          "output_type": "stream",
          "name": "stdout",
          "text": [
            "+-------+--------------+-----------------+------------------+------------------+-----------------+-----------------+---------------------------------------------------------+\n",
            "|summary|apskritis     |darbuotojai      |atvejai_viso      |atvejai_14d       |norma_14d        |testai_14d       |veiklos_pobudis                                          |\n",
            "+-------+--------------+-----------------+------------------+------------------+-----------------+-----------------+---------------------------------------------------------+\n",
            "|count  |3266          |3342             |3342              |3342              |3342             |3340             |3331                                                     |\n",
            "|mean   |null          |160.6376421304608|28.727707959305803|2.3497905445840814|2.826750448833034|27.75958083832335|null                                                     |\n",
            "|stddev |null          |439.9387716182878|80.10760911103677 |3.138244211264703 |5.315451279211243|81.14866790225219|null                                                     |\n",
            "|min    |Alytaus apskr.|5                |1                 |1                 |0                |0                |Agrocheminių produktų ir trąšų didmeninė prekyba         |\n",
            "|max    |Šiaulių apskr.|12725            |1825              |70                |140              |1751             |Žuvų, vėžiagyvių ir moliuskų perdirbimas ir konservavimas|\n",
            "+-------+--------------+-----------------+------------------+------------------+-----------------+-----------------+---------------------------------------------------------+\n",
            "\n"
          ]
        }
      ]
    },
    {
      "cell_type": "code",
      "metadata": {
        "id": "V9EPYiy2ePGg"
      },
      "source": [
        "need.select(\"apskritis\", \"darbuotojai\",\"atvejai_viso\").summary(\"count\", \"mean\", \"max\").show(truncate=False)"
      ],
      "execution_count": null,
      "outputs": []
    },
    {
      "cell_type": "code",
      "metadata": {
        "colab": {
          "base_uri": "https://localhost:8080/"
        },
        "id": "sGEnHswsg9pd",
        "outputId": "6edea68b-3410-4d1e-d596-d063eecfa8b4"
      },
      "source": [
        "sumApskriciu = need.groupBy(\"apskritis\").sum()\n",
        "\n",
        "# Apskritys, kurios turi daugiausia darbuotoju\n",
        "sumApskriciu.sort(desc(\"sum(darbuotojai)\")).limit(10).show(truncate=False)\n",
        "\n",
        "# Apskritys, kur buvo daugiausiai atveju\n",
        "sumApskriciu.sort(desc(\"sum(atvejai_viso)\")).limit(10).show(truncate=False)\n",
        "\n",
        "# Apskritys, kur buvo daugiausiai atveju 14d\n",
        "sumApskriciu.sort(desc(\"sum(atvejai_14d)\")).limit(10).show(truncate=False)\n"
      ],
      "execution_count": null,
      "outputs": [
        {
          "output_type": "stream",
          "name": "stdout",
          "text": [
            "+-------------------+----------------+-----------------+----------------+--------------+---------------+\n",
            "|apskritis          |sum(darbuotojai)|sum(atvejai_viso)|sum(atvejai_14d)|sum(norma_14d)|sum(testai_14d)|\n",
            "+-------------------+----------------+-----------------+----------------+--------------+---------------+\n",
            "|Vilniaus apskr.    |266413          |44283            |2975            |4189          |39896          |\n",
            "|Kauno apskr.       |97757           |17460            |1309            |1396          |15515          |\n",
            "|Klaipėdos apskr.   |57073           |11332            |1347            |1687          |14719          |\n",
            "|Šiaulių apskr.     |27579           |5225             |570             |611           |5657           |\n",
            "|Panevėžio apskr.   |20262           |4164             |275             |218           |3827           |\n",
            "|Telšių apskr.      |19995           |3751             |443             |497           |4653           |\n",
            "|Marijampolės apskr.|13243           |2570             |262             |242           |2373           |\n",
            "|Alytaus apskr.     |12476           |2956             |240             |253           |2396           |\n",
            "|Utenos apskr.      |10449           |2224             |173             |129           |1873           |\n",
            "|Tauragės apskr.    |7913            |1333             |147             |140           |1103           |\n",
            "+-------------------+----------------+-----------------+----------------+--------------+---------------+\n",
            "\n",
            "+-------------------+----------------+-----------------+----------------+--------------+---------------+\n",
            "|apskritis          |sum(darbuotojai)|sum(atvejai_viso)|sum(atvejai_14d)|sum(norma_14d)|sum(testai_14d)|\n",
            "+-------------------+----------------+-----------------+----------------+--------------+---------------+\n",
            "|Vilniaus apskr.    |266413          |44283            |2975            |4189          |39896          |\n",
            "|Kauno apskr.       |97757           |17460            |1309            |1396          |15515          |\n",
            "|Klaipėdos apskr.   |57073           |11332            |1347            |1687          |14719          |\n",
            "|Šiaulių apskr.     |27579           |5225             |570             |611           |5657           |\n",
            "|Panevėžio apskr.   |20262           |4164             |275             |218           |3827           |\n",
            "|Telšių apskr.      |19995           |3751             |443             |497           |4653           |\n",
            "|Alytaus apskr.     |12476           |2956             |240             |253           |2396           |\n",
            "|Marijampolės apskr.|13243           |2570             |262             |242           |2373           |\n",
            "|Utenos apskr.      |10449           |2224             |173             |129           |1873           |\n",
            "|Tauragės apskr.    |7913            |1333             |147             |140           |1103           |\n",
            "+-------------------+----------------+-----------------+----------------+--------------+---------------+\n",
            "\n",
            "+-------------------+----------------+-----------------+----------------+--------------+---------------+\n",
            "|apskritis          |sum(darbuotojai)|sum(atvejai_viso)|sum(atvejai_14d)|sum(norma_14d)|sum(testai_14d)|\n",
            "+-------------------+----------------+-----------------+----------------+--------------+---------------+\n",
            "|Vilniaus apskr.    |266413          |44283            |2975            |4189          |39896          |\n",
            "|Klaipėdos apskr.   |57073           |11332            |1347            |1687          |14719          |\n",
            "|Kauno apskr.       |97757           |17460            |1309            |1396          |15515          |\n",
            "|Šiaulių apskr.     |27579           |5225             |570             |611           |5657           |\n",
            "|Telšių apskr.      |19995           |3751             |443             |497           |4653           |\n",
            "|Panevėžio apskr.   |20262           |4164             |275             |218           |3827           |\n",
            "|Marijampolės apskr.|13243           |2570             |262             |242           |2373           |\n",
            "|Alytaus apskr.     |12476           |2956             |240             |253           |2396           |\n",
            "|Utenos apskr.      |10449           |2224             |173             |129           |1873           |\n",
            "|Tauragės apskr.    |7913            |1333             |147             |140           |1103           |\n",
            "+-------------------+----------------+-----------------+----------------+--------------+---------------+\n",
            "\n"
          ]
        }
      ]
    },
    {
      "cell_type": "code",
      "metadata": {
        "colab": {
          "base_uri": "https://localhost:8080/"
        },
        "id": "p3wVLFZeiWKy",
        "outputId": "8dace30d-295e-4631-aa59-a71fac0d09cb"
      },
      "source": [
        "# Grupuojam pagal veiklos pabudi\n",
        "sumVeiklos = need.groupBy(\"veiklos_pobudis\").sum()\n",
        "\n",
        "# VEIKLOS, kurios turi daugiausia darbuotoju\n",
        "sumVeiklos.sort(desc(\"sum(darbuotojai)\")).limit(10).show(truncate=False)\n",
        "\n",
        "# VEIKLOS, kur buvo daugiausiai atveju\n",
        "sumVeiklos.sort(desc(\"sum(atvejai_viso)\")).limit(10).show(truncate=False)\n",
        "\n",
        "# VEIKLOS, kur buvo daugiausiai atveju 14d\n",
        "sumVeiklos.sort(desc(\"sum(atvejai_14d)\")).limit(10).show(truncate=False)"
      ],
      "execution_count": null,
      "outputs": [
        {
          "output_type": "stream",
          "name": "stdout",
          "text": [
            "+---------------------------------------------------------------------------------------------+----------------+-----------------+----------------+--------------+---------------+\n",
            "|veiklos_pobudis                                                                              |sum(darbuotojai)|sum(atvejai_viso)|sum(atvejai_14d)|sum(norma_14d)|sum(testai_14d)|\n",
            "+---------------------------------------------------------------------------------------------+----------------+-----------------+----------------+--------------+---------------+\n",
            "|Ligoninių veikla                                                                             |36504           |10863            |301             |481           |9721           |\n",
            "|Mažmeninė prekyba nespecializuotose parduotuvėse, kuriose vyrauja maistas, gėrimai ir tabakas|32361           |4602             |255             |417           |5283           |\n",
            "|Vidurinis ugdymas                                                                            |16896           |2773             |468             |385           |2831           |\n",
            "|Aukštasis universitetinis mokslas                                                            |16384           |1822             |83              |211           |1810           |\n",
            "|Kitų baldų gamyba                                                                            |14422           |3141             |199             |245           |4133           |\n",
            "|Krovininis kelių transportas                                                                 |14264           |1141             |173             |254           |908            |\n",
            "|Viešosios tvarkos ir apsaugos veikla                                                         |13989           |3127             |135             |203           |2192           |\n",
            "|Bendrosios praktikos gydytojų veikla                                                         |11947           |2925             |145             |213           |2035           |\n",
            "|Kitas piniginis tarpininkavimas                                                              |10146           |1293             |62              |136           |844            |\n",
            "|Lietuvos Respublikos savivaldybių veikla                                                     |7186            |1226             |98              |129           |1080           |\n",
            "+---------------------------------------------------------------------------------------------+----------------+-----------------+----------------+--------------+---------------+\n",
            "\n",
            "+---------------------------------------------------------------------------------------------+----------------+-----------------+----------------+--------------+---------------+\n",
            "|veiklos_pobudis                                                                              |sum(darbuotojai)|sum(atvejai_viso)|sum(atvejai_14d)|sum(norma_14d)|sum(testai_14d)|\n",
            "+---------------------------------------------------------------------------------------------+----------------+-----------------+----------------+--------------+---------------+\n",
            "|Ligoninių veikla                                                                             |36504           |10863            |301             |481           |9721           |\n",
            "|Mažmeninė prekyba nespecializuotose parduotuvėse, kuriose vyrauja maistas, gėrimai ir tabakas|32361           |4602             |255             |417           |5283           |\n",
            "|Kitų baldų gamyba                                                                            |14422           |3141             |199             |245           |4133           |\n",
            "|Viešosios tvarkos ir apsaugos veikla                                                         |13989           |3127             |135             |203           |2192           |\n",
            "|Bendrosios praktikos gydytojų veikla                                                         |11947           |2925             |145             |213           |2035           |\n",
            "|Vidurinis ugdymas                                                                            |16896           |2773             |468             |385           |2831           |\n",
            "|Aukštasis universitetinis mokslas                                                            |16384           |1822             |83              |211           |1810           |\n",
            "|Ikimokyklinio amžiaus vaikų ugdymas                                                          |7178            |1690             |269             |220           |1583           |\n",
            "|Kitas piniginis tarpininkavimas                                                              |10146           |1293             |62              |136           |844            |\n",
            "|Pagrindinis ugdymas                                                                          |6684            |1277             |215             |172           |1204           |\n",
            "+---------------------------------------------------------------------------------------------+----------------+-----------------+----------------+--------------+---------------+\n",
            "\n",
            "+---------------------------------------------------------------------------------------------+----------------+-----------------+----------------+--------------+---------------+\n",
            "|veiklos_pobudis                                                                              |sum(darbuotojai)|sum(atvejai_viso)|sum(atvejai_14d)|sum(norma_14d)|sum(testai_14d)|\n",
            "+---------------------------------------------------------------------------------------------+----------------+-----------------+----------------+--------------+---------------+\n",
            "|Vidurinis ugdymas                                                                            |16896           |2773             |468             |385           |2831           |\n",
            "|Ligoninių veikla                                                                             |36504           |10863            |301             |481           |9721           |\n",
            "|Ikimokyklinio amžiaus vaikų ugdymas                                                          |7178            |1690             |269             |220           |1583           |\n",
            "|Mažmeninė prekyba nespecializuotose parduotuvėse, kuriose vyrauja maistas, gėrimai ir tabakas|32361           |4602             |255             |417           |5283           |\n",
            "|Pagrindinis ugdymas                                                                          |6684            |1277             |215             |172           |1204           |\n",
            "|Kitų baldų gamyba                                                                            |14422           |3141             |199             |245           |4133           |\n",
            "|Gyvenamųjų ir negyvenamųjų pastatų statyba                                                   |5673            |964              |183             |141           |599            |\n",
            "|Krovininis kelių transportas                                                                 |14264           |1141             |173             |254           |908            |\n",
            "|Restoranų ir pagaminto valgio teikimo veikla                                                 |6209            |960              |150             |130           |1461           |\n",
            "|Bendrosios praktikos gydytojų veikla                                                         |11947           |2925             |145             |213           |2035           |\n",
            "+---------------------------------------------------------------------------------------------+----------------+-----------------+----------------+--------------+---------------+\n",
            "\n"
          ]
        }
      ]
    },
    {
      "cell_type": "code",
      "metadata": {
        "colab": {
          "base_uri": "https://localhost:8080/"
        },
        "id": "GXkgTp5jjW-C",
        "outputId": "65122bc9-01d1-46f7-e313-b9a3caa04fc8"
      },
      "source": [
        "# AVERAGE\n",
        "avgAllVak = need.groupBy(\"veiklos_pobudis\").avg()\n",
        "avgAllVak.sort(desc(\"avg(darbuotojai)\")).limit(10).show(truncate=False)"
      ],
      "execution_count": null,
      "outputs": [
        {
          "output_type": "stream",
          "name": "stdout",
          "text": [
            "+--------------------------------------------------------------------------+------------------+------------------+-----------------+------------------+------------------+\n",
            "|veiklos_pobudis                                                           |avg(darbuotojai)  |avg(atvejai_viso) |avg(atvejai_14d) |avg(norma_14d)    |avg(testai_14d)   |\n",
            "+--------------------------------------------------------------------------+------------------+------------------+-----------------+------------------+------------------+\n",
            "|Pašto pagal įpareigojimą teikti universaliąsias paslaugas atliekama veikla|4029.0            |619.0             |20.0             |48.0              |214.0             |\n",
            "|Keleivių vežimas miesto arba priemiestiniu sausumos transportu            |1974.0            |476.0             |15.0             |25.0              |637.0             |\n",
            "|Kitų, niekur kitur nepriskirtų, cheminių medžiagų gamyba                  |1707.0            |240.0             |4.0              |22.0              |175.0             |\n",
            "|Miško medžių auginimas ir kita miškininkystės veikla                      |1435.0            |192.5             |6.5              |17.5              |68.5              |\n",
            "|Įdarbinimo agentūrų veikla                                                |1423.0            |211.0             |13.0             |19.0              |248.0             |\n",
            "|Aukštasis universitetinis mokslas                                         |1365.3333333333333|151.83333333333334|6.916666666666667|17.583333333333332|150.83333333333334|\n",
            "|Trąšų ir azoto junginių gamyba                                            |1141.0            |241.5             |7.0              |10.5              |265.5             |\n",
            "|Krovininis geležinkelio transportas                                       |1076.75           |184.75            |8.5              |14.0              |125.75            |\n",
            "|Ligoninių veikla                                                          |1073.6470588235295|319.5             |8.852941176470589|14.147058823529411|285.9117647058824 |\n",
            "|Variklinių transporto priemonių elektros ir elektroninės įrangos gamyba   |1001.0            |163.33333333333334|6.0              |8.0               |320.3333333333333 |\n",
            "+--------------------------------------------------------------------------+------------------+------------------+-----------------+------------------+------------------+\n",
            "\n"
          ]
        }
      ]
    }
  ]
}